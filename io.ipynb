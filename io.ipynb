{
 "cells": [
  {
   "cell_type": "code",
   "execution_count": 0,
   "metadata": {
    "application/vnd.databricks.v1+cell": {
     "cellMetadata": {
      "byteLimit": 2048000,
      "rowLimit": 10000
     },
     "inputWidgets": {},
     "nuid": "35e1e8b0-17a2-4988-a234-7bc446c300aa",
     "showTitle": false,
     "tableResultSettingsMap": {},
     "title": ""
    }
   },
   "outputs": [],
   "source": [
    "#This helper file  for data loading and writing back\n",
    "\n",
    "from pyspark.sql import functions as F\n",
    "\n",
    "def load_csv_gz(path, multiline=False, sep=\",\", infer=True):\n",
    "    reader = (spark.read\n",
    "              .option(\"header\", True)\n",
    "              .option(\"inferSchema\", infer)\n",
    "              .option(\"sep\", sep)\n",
    "              .option(\"multiLine\", multiline)\n",
    "              .option(\"quote\", '\"')\n",
    "              .option(\"escape\", '\"')\n",
    "              .option(\"mode\", \"PERMISSIVE\"))\n",
    "    return reader.csv(path)\n",
    "\n",
    "def save_delta_table(df, full_table_name, mode=\"overwrite\"):\n",
    "    (df.write.format(\"delta\").mode(mode).saveAsTable(full_table_name))\n",
    "    return full_table_name\n",
    "\n",
    "def load_table(full_table_name):\n",
    "    return spark.table(full_table_name)\n",
    "\n",
    "def exists_table(full_table_name):\n",
    "    try:\n",
    "        spark.table(full_table_name)\n",
    "        return True\n",
    "    except:\n",
    "        return False\n"
   ]
  }
 ],
 "metadata": {
  "application/vnd.databricks.v1+notebook": {
   "computePreferences": null,
   "dashboards": [],
   "environmentMetadata": {
    "base_environment": "",
    "environment_version": "4"
   },
   "inputWidgetPreferences": null,
   "language": "python",
   "notebookMetadata": {
    "pythonIndentUnit": 4
   },
   "notebookName": "io",
   "widgets": {}
  },
  "language_info": {
   "name": "python"
  }
 },
 "nbformat": 4,
 "nbformat_minor": 0
}
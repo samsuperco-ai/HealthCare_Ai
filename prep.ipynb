{
 "cells": [
  {
   "cell_type": "code",
   "execution_count": 0,
   "metadata": {
    "application/vnd.databricks.v1+cell": {
     "cellMetadata": {
      "byteLimit": 2048000,
      "rowLimit": 10000
     },
     "inputWidgets": {},
     "nuid": "24b0d4b5-9001-4414-9e90-5f525c82060a",
     "showTitle": false,
     "tableResultSettingsMap": {},
     "title": ""
    }
   },
   "outputs": [],
   "source": [
    "# mimic_mod/prep to clean text, derive labels, join notes and diagnosis from MIMIC IV\n",
    "import pyspark.sql.functions as F\n",
    "\n",
    "PHI_RE = r\"\\[\\*\\*.*?\\*\\*\\]\"\n",
    "\n",
    "def filter_valid_text(df, text_col=\"text\", min_len=10):\n",
    "    return (df\n",
    "            .filter(F.col(text_col).isNotNull())\n",
    "            .filter(F.length(F.trim(F.col(text_col))) > min_len))\n",
    "\n",
    "def clean_text(df, text_col=\"text\", out_col=\"text_clean\"):\n",
    "    return (df\n",
    "            .withColumn(out_col, F.regexp_replace(F.col(text_col), PHI_RE, \" \"))\n",
    "            .withColumn(out_col, F.regexp_replace(F.col(out_col), r\"\\s+\", \" \"))\n",
    "            .withColumn(out_col, F.lower(F.col(out_col)).alias(out_col)))\n",
    "\n",
    "def anxiety_label_from_icd(df_icd, title_col=\"long_title\"):\n",
    "    # 1 for anxiety mentions in ICD titles\n",
    "    return (df_icd\n",
    "            .withColumn(\"anxiety_flag\", F.when(F.lower(F.col(title_col)).contains(\"anxiety\"), F.lit(1)).otherwise(F.lit(0)))\n",
    "            .groupBy(\"hadm_id\")\n",
    "            .agg(F.max(\"anxiety_flag\").alias(\"label_anxiety\")))\n",
    "\n",
    "def join_notes_labels(df_notes, df_labels, how=\"left\"):\n",
    "    return (df_notes.join(df_labels, on=\"hadm_id\", how=how)\n",
    "            .fillna({\"label_anxiety\": 0}))\n"
   ]
  }
 ],
 "metadata": {
  "application/vnd.databricks.v1+notebook": {
   "computePreferences": null,
   "dashboards": [],
   "environmentMetadata": {
    "base_environment": "",
    "environment_version": "4"
   },
   "inputWidgetPreferences": null,
   "language": "python",
   "notebookMetadata": {
    "pythonIndentUnit": 4
   },
   "notebookName": "prep",
   "widgets": {}
  },
  "language_info": {
   "name": "python"
  }
 },
 "nbformat": 4,
 "nbformat_minor": 0
}
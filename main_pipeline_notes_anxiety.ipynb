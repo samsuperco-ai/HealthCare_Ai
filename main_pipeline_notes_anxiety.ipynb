{
 "cells": [
  {
   "cell_type": "code",
   "execution_count": 0,
   "metadata": {
    "application/vnd.databricks.v1+cell": {
     "cellMetadata": {},
     "inputWidgets": {},
     "nuid": "e9fa1069-da86-43a5-bbe5-b4de3d17bb84",
     "showTitle": false,
     "tableResultSettingsMap": {},
     "title": ""
    }
   },
   "outputs": [],
   "source": [
    "\n",
    "\n"
   ]
  },
  {
   "cell_type": "markdown",
   "metadata": {
    "application/vnd.databricks.v1+cell": {
     "cellMetadata": {},
     "inputWidgets": {},
     "nuid": "fd8af96a-e52c-4e1e-98f5-cc47216ea17b",
     "showTitle": false,
     "tableResultSettingsMap": {},
     "title": ""
    }
   },
   "source": [
    "##This is to bring it all together.\n",
    "load → clean → label → vectorize → train → MLflow log"
   ]
  },
  {
   "cell_type": "code",
   "execution_count": 0,
   "metadata": {
    "application/vnd.databricks.v1+cell": {
     "cellMetadata": {
      "byteLimit": 2048000,
      "rowLimit": 10000
     },
     "inputWidgets": {},
     "nuid": "d028e014-3904-4b4d-ba6b-753ac4370d3c",
     "showTitle": false,
     "tableResultSettingsMap": {},
     "title": ""
    }
   },
   "outputs": [
    {
     "name": "stdout",
     "output_type": "stream",
     "text": [
      "Requirement already satisfied: scikit-learn==1.5.2 in /local_disk0/.ephemeral_nfs/envs/pythonEnv-3afbb802-92be-4206-ad65-dd72741bc801/lib/python3.12/site-packages (1.5.2)\n",
      "Requirement already satisfied: mlflow==2.21.3 in /local_disk0/.ephemeral_nfs/envs/pythonEnv-3afbb802-92be-4206-ad65-dd72741bc801/lib/python3.12/site-packages (2.21.3)\n",
      "Requirement already satisfied: numpy>=1.19.5 in /databricks/python3/lib/python3.12/site-packages (from scikit-learn==1.5.2) (1.26.4)\n",
      "Requirement already satisfied: scipy>=1.6.0 in /databricks/python3/lib/python3.12/site-packages (from scikit-learn==1.5.2) (1.13.1)\n",
      "Requirement already satisfied: joblib>=1.2.0 in /databricks/python3/lib/python3.12/site-packages (from scikit-learn==1.5.2) (1.4.2)\n",
      "Requirement already satisfied: threadpoolctl>=3.1.0 in /local_disk0/.ephemeral_nfs/envs/pythonEnv-3afbb802-92be-4206-ad65-dd72741bc801/lib/python3.12/site-packages (from scikit-learn==1.5.2) (3.6.0)\n",
      "Requirement already satisfied: mlflow-skinny==2.21.3 in /databricks/python3/lib/python3.12/site-packages (from mlflow==2.21.3) (2.21.3)\n",
      "Requirement already satisfied: Flask<4 in /databricks/python3/lib/python3.12/site-packages (from mlflow==2.21.3) (2.2.5)\n",
      "Requirement already satisfied: Jinja2<4,>=2.11 in /databricks/python3/lib/python3.12/site-packages (from mlflow==2.21.3) (3.1.4)\n",
      "Requirement already satisfied: alembic!=1.10.0,<2 in /databricks/python3/lib/python3.12/site-packages (from mlflow==2.21.3) (1.14.1)\n",
      "Requirement already satisfied: docker<8,>=4.0.0 in /local_disk0/.ephemeral_nfs/envs/pythonEnv-3afbb802-92be-4206-ad65-dd72741bc801/lib/python3.12/site-packages (from mlflow==2.21.3) (7.1.0)\n",
      "Requirement already satisfied: graphene<4 in /local_disk0/.ephemeral_nfs/envs/pythonEnv-3afbb802-92be-4206-ad65-dd72741bc801/lib/python3.12/site-packages (from mlflow==2.21.3) (3.4.3)\n",
      "Requirement already satisfied: gunicorn<24 in /databricks/python3/lib/python3.12/site-packages (from mlflow==2.21.3) (20.1.0)\n",
      "Requirement already satisfied: markdown<4,>=3.3 in /databricks/python3/lib/python3.12/site-packages (from mlflow==2.21.3) (3.4.1)\n",
      "Requirement already satisfied: matplotlib<4 in /databricks/python3/lib/python3.12/site-packages (from mlflow==2.21.3) (3.8.4)\n",
      "Requirement already satisfied: pandas<3 in /databricks/python3/lib/python3.12/site-packages (from mlflow==2.21.3) (1.5.3)\n",
      "Requirement already satisfied: pyarrow<20,>=4.0.0 in /databricks/python3/lib/python3.12/site-packages (from mlflow==2.21.3) (15.0.2)\n",
      "Requirement already satisfied: sqlalchemy<3,>=1.4.0 in /databricks/python3/lib/python3.12/site-packages (from mlflow==2.21.3) (2.0.30)\n",
      "Requirement already satisfied: cachetools<6,>=5.0.0 in /databricks/python3/lib/python3.12/site-packages (from mlflow-skinny==2.21.3->mlflow==2.21.3) (5.3.3)\n",
      "Requirement already satisfied: click<9,>=7.0 in /databricks/python3/lib/python3.12/site-packages (from mlflow-skinny==2.21.3->mlflow==2.21.3) (8.1.7)\n",
      "Requirement already satisfied: cloudpickle<4 in /databricks/python3/lib/python3.12/site-packages (from mlflow-skinny==2.21.3->mlflow==2.21.3) (2.2.1)\n",
      "Requirement already satisfied: databricks-sdk<1,>=0.20.0 in /databricks/python3/lib/python3.12/site-packages (from mlflow-skinny==2.21.3->mlflow==2.21.3) (0.30.0)\n",
      "Requirement already satisfied: fastapi<1 in /databricks/python3/lib/python3.12/site-packages (from mlflow-skinny==2.21.3->mlflow==2.21.3) (0.115.12)\n",
      "Requirement already satisfied: gitpython<4,>=3.1.9 in /databricks/python3/lib/python3.12/site-packages (from mlflow-skinny==2.21.3->mlflow==2.21.3) (3.1.37)\n",
      "Requirement already satisfied: importlib_metadata!=4.7.0,<9,>=3.7.0 in /databricks/python3/lib/python3.12/site-packages (from mlflow-skinny==2.21.3->mlflow==2.21.3) (6.0.0)\n",
      "Requirement already satisfied: opentelemetry-api<3,>=1.9.0 in /databricks/python3/lib/python3.12/site-packages (from mlflow-skinny==2.21.3->mlflow==2.21.3) (1.32.0)\n",
      "Requirement already satisfied: opentelemetry-sdk<3,>=1.9.0 in /databricks/python3/lib/python3.12/site-packages (from mlflow-skinny==2.21.3->mlflow==2.21.3) (1.32.0)\n",
      "Requirement already satisfied: packaging<25 in /databricks/python3/lib/python3.12/site-packages (from mlflow-skinny==2.21.3->mlflow==2.21.3) (24.1)\n",
      "Requirement already satisfied: protobuf<6,>=3.12.0 in /databricks/python3/lib/python3.12/site-packages (from mlflow-skinny==2.21.3->mlflow==2.21.3) (4.24.1)\n",
      "Requirement already satisfied: pydantic<3,>=1.10.8 in /databricks/python3/lib/python3.12/site-packages (from mlflow-skinny==2.21.3->mlflow==2.21.3) (2.8.2)\n",
      "Requirement already satisfied: pyyaml<7,>=5.1 in /databricks/python3/lib/python3.12/site-packages (from mlflow-skinny==2.21.3->mlflow==2.21.3) (6.0.1)\n",
      "Requirement already satisfied: requests<3,>=2.17.3 in /databricks/python3/lib/python3.12/site-packages (from mlflow-skinny==2.21.3->mlflow==2.21.3) (2.32.2)\n",
      "Requirement already satisfied: sqlparse<1,>=0.4.0 in /databricks/python3/lib/python3.12/site-packages (from mlflow-skinny==2.21.3->mlflow==2.21.3) (0.4.2)\n",
      "Requirement already satisfied: typing-extensions<5,>=4.0.0 in /databricks/python3/lib/python3.12/site-packages (from mlflow-skinny==2.21.3->mlflow==2.21.3) (4.11.0)\n",
      "Requirement already satisfied: uvicorn<1 in /databricks/python3/lib/python3.12/site-packages (from mlflow-skinny==2.21.3->mlflow==2.21.3) (0.34.1)\n",
      "Requirement already satisfied: Mako in /databricks/python3/lib/python3.12/site-packages (from alembic!=1.10.0,<2->mlflow==2.21.3) (1.2.0)\n",
      "Requirement already satisfied: urllib3>=1.26.0 in /databricks/python3/lib/python3.12/site-packages (from docker<8,>=4.0.0->mlflow==2.21.3) (1.26.16)\n",
      "Requirement already satisfied: Werkzeug>=2.2.2 in /databricks/python3/lib/python3.12/site-packages (from Flask<4->mlflow==2.21.3) (3.0.3)\n",
      "Requirement already satisfied: itsdangerous>=2.0 in /databricks/python3/lib/python3.12/site-packages (from Flask<4->mlflow==2.21.3) (2.2.0)\n",
      "Requirement already satisfied: graphql-core<3.3,>=3.1 in /databricks/python3/lib/python3.12/site-packages (from graphene<4->mlflow==2.21.3) (3.2.4)\n",
      "Requirement already satisfied: graphql-relay<3.3,>=3.1 in /local_disk0/.ephemeral_nfs/envs/pythonEnv-3afbb802-92be-4206-ad65-dd72741bc801/lib/python3.12/site-packages (from graphene<4->mlflow==2.21.3) (3.2.0)\n",
      "Requirement already satisfied: python-dateutil<3,>=2.7.0 in /databricks/python3/lib/python3.12/site-packages (from graphene<4->mlflow==2.21.3) (2.9.0.post0)\n",
      "Requirement already satisfied: setuptools>=3.0 in /usr/local/lib/python3.12/dist-packages (from gunicorn<24->mlflow==2.21.3) (74.0.0)\n",
      "Requirement already satisfied: MarkupSafe>=2.0 in /databricks/python3/lib/python3.12/site-packages (from Jinja2<4,>=2.11->mlflow==2.21.3) (2.1.3)\n",
      "Requirement already satisfied: contourpy>=1.0.1 in /databricks/python3/lib/python3.12/site-packages (from matplotlib<4->mlflow==2.21.3) (1.2.0)\n",
      "Requirement already satisfied: cycler>=0.10 in /databricks/python3/lib/python3.12/site-packages (from matplotlib<4->mlflow==2.21.3) (0.11.0)\n",
      "Requirement already satisfied: fonttools>=4.22.0 in /databricks/python3/lib/python3.12/site-packages (from matplotlib<4->mlflow==2.21.3) (4.51.0)\n",
      "Requirement already satisfied: kiwisolver>=1.3.1 in /databricks/python3/lib/python3.12/site-packages (from matplotlib<4->mlflow==2.21.3) (1.4.4)\n",
      "Requirement already satisfied: pillow>=8 in /databricks/python3/lib/python3.12/site-packages (from matplotlib<4->mlflow==2.21.3) (10.3.0)\n",
      "Requirement already satisfied: pyparsing>=2.3.1 in /databricks/python3/lib/python3.12/site-packages (from matplotlib<4->mlflow==2.21.3) (3.0.9)\n",
      "Requirement already satisfied: pytz>=2020.1 in /databricks/python3/lib/python3.12/site-packages (from pandas<3->mlflow==2.21.3) (2024.1)\n",
      "Requirement already satisfied: greenlet!=0.4.17 in /databricks/python3/lib/python3.12/site-packages (from sqlalchemy<3,>=1.4.0->mlflow==2.21.3) (3.0.1)\n",
      "Requirement already satisfied: google-auth~=2.0 in /databricks/python3/lib/python3.12/site-packages (from databricks-sdk<1,>=0.20.0->mlflow-skinny==2.21.3->mlflow==2.21.3) (2.21.0)\n",
      "Requirement already satisfied: starlette<0.47.0,>=0.40.0 in /databricks/python3/lib/python3.12/site-packages (from fastapi<1->mlflow-skinny==2.21.3->mlflow==2.21.3) (0.46.2)\n",
      "Requirement already satisfied: gitdb<5,>=4.0.1 in /databricks/python3/lib/python3.12/site-packages (from gitpython<4,>=3.1.9->mlflow-skinny==2.21.3->mlflow==2.21.3) (4.0.11)\n",
      "Requirement already satisfied: zipp>=0.5 in /databricks/python3/lib/python3.12/site-packages (from importlib_metadata!=4.7.0,<9,>=3.7.0->mlflow-skinny==2.21.3->mlflow==2.21.3) (3.17.0)\n",
      "Requirement already satisfied: deprecated>=1.2.6 in /databricks/python3/lib/python3.12/site-packages (from opentelemetry-api<3,>=1.9.0->mlflow-skinny==2.21.3->mlflow==2.21.3) (1.2.18)\n",
      "Requirement already satisfied: opentelemetry-semantic-conventions==0.53b0 in /databricks/python3/lib/python3.12/site-packages (from opentelemetry-sdk<3,>=1.9.0->mlflow-skinny==2.21.3->mlflow==2.21.3) (0.53b0)\n",
      "Requirement already satisfied: annotated-types>=0.4.0 in /databricks/python3/lib/python3.12/site-packages (from pydantic<3,>=1.10.8->mlflow-skinny==2.21.3->mlflow==2.21.3) (0.7.0)\n",
      "Requirement already satisfied: pydantic-core==2.20.1 in /databricks/python3/lib/python3.12/site-packages (from pydantic<3,>=1.10.8->mlflow-skinny==2.21.3->mlflow==2.21.3) (2.20.1)\n",
      "Requirement already satisfied: six>=1.5 in /usr/lib/python3/dist-packages (from python-dateutil<3,>=2.7.0->graphene<4->mlflow==2.21.3) (1.16.0)\n",
      "Requirement already satisfied: charset-normalizer<4,>=2 in /databricks/python3/lib/python3.12/site-packages (from requests<3,>=2.17.3->mlflow-skinny==2.21.3->mlflow==2.21.3) (2.0.4)\n",
      "Requirement already satisfied: idna<4,>=2.5 in /databricks/python3/lib/python3.12/site-packages (from requests<3,>=2.17.3->mlflow-skinny==2.21.3->mlflow==2.21.3) (3.7)\n",
      "Requirement already satisfied: certifi>=2017.4.17 in /databricks/python3/lib/python3.12/site-packages (from requests<3,>=2.17.3->mlflow-skinny==2.21.3->mlflow==2.21.3) (2024.6.2)\n",
      "Requirement already satisfied: h11>=0.8 in /databricks/python3/lib/python3.12/site-packages (from uvicorn<1->mlflow-skinny==2.21.3->mlflow==2.21.3) (0.14.0)\n",
      "Requirement already satisfied: wrapt<2,>=1.10 in /databricks/python3/lib/python3.12/site-packages (from deprecated>=1.2.6->opentelemetry-api<3,>=1.9.0->mlflow-skinny==2.21.3->mlflow==2.21.3) (1.14.1)\n",
      "Requirement already satisfied: smmap<6,>=3.0.1 in /databricks/python3/lib/python3.12/site-packages (from gitdb<5,>=4.0.1->gitpython<4,>=3.1.9->mlflow-skinny==2.21.3->mlflow==2.21.3) (5.0.0)\n",
      "Requirement already satisfied: pyasn1-modules>=0.2.1 in /databricks/python3/lib/python3.12/site-packages (from google-auth~=2.0->databricks-sdk<1,>=0.20.0->mlflow-skinny==2.21.3->mlflow==2.21.3) (0.2.8)\n",
      "Requirement already satisfied: rsa<5,>=3.1.4 in /databricks/python3/lib/python3.12/site-packages (from google-auth~=2.0->databricks-sdk<1,>=0.20.0->mlflow-skinny==2.21.3->mlflow==2.21.3) (4.9)\n",
      "Requirement already satisfied: anyio<5,>=3.6.2 in /databricks/python3/lib/python3.12/site-packages (from starlette<0.47.0,>=0.40.0->fastapi<1->mlflow-skinny==2.21.3->mlflow==2.21.3) (4.2.0)\n",
      "Requirement already satisfied: sniffio>=1.1 in /databricks/python3/lib/python3.12/site-packages (from anyio<5,>=3.6.2->starlette<0.47.0,>=0.40.0->fastapi<1->mlflow-skinny==2.21.3->mlflow==2.21.3) (1.3.0)\n",
      "Requirement already satisfied: pyasn1<0.5.0,>=0.4.6 in /databricks/python3/lib/python3.12/site-packages (from pyasn1-modules>=0.2.1->google-auth~=2.0->databricks-sdk<1,>=0.20.0->mlflow-skinny==2.21.3->mlflow==2.21.3) (0.4.8)\n",
      "\u001b[43mNote: you may need to restart the kernel using %restart_python or dbutils.library.restartPython() to use updated packages.\u001b[0m\n"
     ]
    }
   ],
   "source": [
    "# install once per cluster (light deps first)\n",
    "%pip install scikit-learn==1.5.2 mlflow==2.21.3\n"
   ]
  },
  {
   "cell_type": "code",
   "execution_count": 0,
   "metadata": {
    "application/vnd.databricks.v1+cell": {
     "cellMetadata": {
      "byteLimit": 2048000,
      "rowLimit": 10000
     },
     "inputWidgets": {},
     "nuid": "d8b34e7e-db95-4a31-9875-1f2002670a86",
     "showTitle": false,
     "tableResultSettingsMap": {},
     "title": ""
    }
   },
   "outputs": [],
   "source": [
    "%restart_python"
   ]
  },
  {
   "cell_type": "code",
   "execution_count": 0,
   "metadata": {
    "application/vnd.databricks.v1+cell": {
     "cellMetadata": {
      "byteLimit": 2048000,
      "rowLimit": 10000
     },
     "inputWidgets": {},
     "nuid": "c2a3ecff-4b19-4846-9678-a96ae03a039d",
     "showTitle": false,
     "tableResultSettingsMap": {},
     "title": ""
    }
   },
   "outputs": [],
   "source": [
    "dbutils.notebook.entry_point.getDbutils().notebook().getContext().notebookPath().get()\n"
   ]
  },
  {
   "cell_type": "code",
   "execution_count": 0,
   "metadata": {
    "application/vnd.databricks.v1+cell": {
     "cellMetadata": {
      "byteLimit": 2048000,
      "rowLimit": 10000
     },
     "inputWidgets": {},
     "nuid": "99a66c5c-c099-4606-b951-9b0c9e1dc890",
     "showTitle": false,
     "tableResultSettingsMap": {},
     "title": ""
    }
   },
   "outputs": [],
   "source": [
    "%run \"[location]/mimic_mod/io\"\n",
    "\n"
   ]
  },
  {
   "cell_type": "code",
   "execution_count": 0,
   "metadata": {
    "application/vnd.databricks.v1+cell": {
     "cellMetadata": {
      "byteLimit": 2048000,
      "rowLimit": 10000
     },
     "inputWidgets": {},
     "nuid": "f37727dd-ec07-4372-b6d1-1adbaeef7fef",
     "showTitle": false,
     "tableResultSettingsMap": {},
     "title": ""
    }
   },
   "outputs": [],
   "source": [
    "%run \"[location]/mimic_mod/prep\"\n"
   ]
  },
  {
   "cell_type": "code",
   "execution_count": 0,
   "metadata": {
    "application/vnd.databricks.v1+cell": {
     "cellMetadata": {
      "byteLimit": 2048000,
      "rowLimit": 10000
     },
     "inputWidgets": {},
     "nuid": "26c3c12b-a35f-4b0b-9789-cd47ed8de2d5",
     "showTitle": false,
     "tableResultSettingsMap": {},
     "title": ""
    }
   },
   "outputs": [],
   "source": [
    "%run \"[location]/mimic_mod/nlp\"\n"
   ]
  },
  {
   "cell_type": "code",
   "execution_count": 0,
   "metadata": {
    "application/vnd.databricks.v1+cell": {
     "cellMetadata": {
      "byteLimit": 2048000,
      "rowLimit": 10000
     },
     "inputWidgets": {},
     "nuid": "a64b3f2e-b900-4282-b7c7-9a714c1518e1",
     "showTitle": false,
     "tableResultSettingsMap": {},
     "title": ""
    }
   },
   "outputs": [],
   "source": [
    "%run \"[location]/mimic_mod/train\""
   ]
  },
  {
   "cell_type": "code",
   "execution_count": 0,
   "metadata": {
    "application/vnd.databricks.v1+cell": {
     "cellMetadata": {
      "byteLimit": 2048000,
      "rowLimit": 10000
     },
     "inputWidgets": {},
     "nuid": "5f01045e-db3b-48fa-9826-934f0009c717",
     "showTitle": false,
     "tableResultSettingsMap": {},
     "title": ""
    }
   },
   "outputs": [],
   "source": [
    "# ---- paths & tables (adjust to your volume & tables) ----\n",
    "notes_tbl = \"default.df_anxiety_notes\"   # or default.df_anxiety_notes\n",
    "icd_tbl   = \"default.diagnoses_icd\"\n",
    "icd_tbl_d = \"default.d_icd_diagnoses\"\n",
    "\n",
    "df_notes = load_table(notes_tbl)\n",
    "df_icd   = load_table(icd_tbl)\n",
    "df_icd = df_icd.join(load_table(icd_tbl_d), \"icd_code\", \"left\")\n",
    "\n",
    "# clean/prepare\n",
    "df_notes = filter_valid_text(df_notes, \"text\")\n",
    "df_notes = clean_text(df_notes, \"text\", \"text_clean\")\n",
    "\n",
    "df_labels = anxiety_label_from_icd(df_icd, \"long_title\")\n",
    "df_join   = join_notes_labels(df_notes, df_labels, \"left\")\n",
    "\n",
    "display(df_join.select(\"hadm_id\",\"label_anxiety\",\"text_clean\").limit(1000))\n"
   ]
  },
  {
   "cell_type": "markdown",
   "metadata": {
    "application/vnd.databricks.v1+cell": {
     "cellMetadata": {},
     "inputWidgets": {},
     "nuid": "7e87677e-783b-473f-a413-9e1e77d4020b",
     "showTitle": false,
     "tableResultSettingsMap": {},
     "title": ""
    }
   },
   "source": []
  },
  {
   "cell_type": "code",
   "execution_count": 0,
   "metadata": {
    "application/vnd.databricks.v1+cell": {
     "cellMetadata": {
      "byteLimit": 2048000,
      "rowLimit": 10000
     },
     "inputWidgets": {},
     "nuid": "7566e6d8-3aa5-46b5-b6f8-30e039809b63",
     "showTitle": false,
     "tableResultSettingsMap": {},
     "title": ""
    }
   },
   "outputs": [
    {
     "name": "stderr",
     "output_type": "stream",
     "text": [
      "\u001b[31m2025/10/22 01:34:26 WARNING mlflow.models.model: Model logged without a signature and input example. Please set `input_example` parameter when logging the model to auto infer the model signature.\u001b[0m\n"
     ]
    },
    {
     "data": {
      "application/vnd.jupyter.widget-view+json": {
       "model_id": "7e19bc417c42480c81214c4e33ab3727",
       "version_major": 2,
       "version_minor": 0
      },
      "text/plain": [
       "Uploading artifacts:   0%|          | 0/9 [00:00<?, ?it/s]"
      ]
     },
     "metadata": {},
     "output_type": "display_data"
    },
    {
     "data": {
      "text/plain": [
       "{'0': {'precision': 0.7565095003518649,\n",
       "  'recall': 0.7147606382978723,\n",
       "  'f1-score': 0.7350427350427351,\n",
       "  'support': 1504.0},\n",
       " '1': {'precision': 0.7333747669359851,\n",
       "  'recall': 0.7732634338138925,\n",
       "  'f1-score': 0.7527910685805422,\n",
       "  'support': 1526.0},\n",
       " 'accuracy': 0.7442244224422442,\n",
       " 'macro avg': {'precision': 0.744942133643925,\n",
       "  'recall': 0.7440120360558824,\n",
       "  'f1-score': 0.7439169018116387,\n",
       "  'support': 3030.0},\n",
       " 'weighted avg': {'precision': 0.7448581461628773,\n",
       "  'recall': 0.7442244224422442,\n",
       "  'f1-score': 0.7439813347056704,\n",
       "  'support': 3030.0}}"
      ]
     },
     "execution_count": 17,
     "metadata": {},
     "output_type": "execute_result"
    }
   ],
   "source": [
    "# collect a manageable slice for modeling (keep compute in check)\n",
    "pdf = df_join.select(\"label_anxiety\",\"text_clean\").limit(30000).toPandas()\n",
    "y = pdf[\"label_anxiety\"].astype(int).values\n",
    "texts = pdf[\"text_clean\"].tolist()\n",
    "\n",
    "vec, X = tfidf_fit_transform(texts, max_features=30000, ngram_range=(1,2), min_df=3)\n",
    "clf, report = train_logreg_tfidf(X, y, C=1.0, max_iter=1000)\n",
    "report\n"
   ]
  },
  {
   "cell_type": "code",
   "execution_count": 0,
   "metadata": {
    "application/vnd.databricks.v1+cell": {
     "cellMetadata": {
      "byteLimit": 2048000,
      "rowLimit": 10000
     },
     "inputWidgets": {},
     "nuid": "eaec0581-02ad-4293-88ce-6cb83005dd07",
     "showTitle": false,
     "tableResultSettingsMap": {},
     "title": ""
    }
   },
   "outputs": [
    {
     "data": {
      "text/plain": [
       "0    178\n",
       "1    122\n",
       "Name: label_anxiety, dtype: int64"
      ]
     },
     "metadata": {},
     "output_type": "display_data"
    },
    {
     "name": "stderr",
     "output_type": "stream",
     "text": [
      "\u001b[31m2025/10/22 00:40:35 WARNING mlflow.models.model: Model logged without a signature and input example. Please set `input_example` parameter when logging the model to auto infer the model signature.\u001b[0m\n"
     ]
    },
    {
     "data": {
      "application/vnd.jupyter.widget-view+json": {
       "model_id": "95b4e57e0bd442ea8747f73ab3533a08",
       "version_major": 2,
       "version_minor": 0
      },
      "text/plain": [
       "Uploading artifacts:   0%|          | 0/9 [00:00<?, ?it/s]"
      ]
     },
     "metadata": {},
     "output_type": "display_data"
    },
    {
     "data": {
      "text/plain": [
       "{'0': {'precision': 0.7111111111111111,\n",
       "  'recall': 0.8888888888888888,\n",
       "  'f1-score': 0.7901234567901234,\n",
       "  'support': 36.0},\n",
       " '1': {'precision': 0.7333333333333333,\n",
       "  'recall': 0.4583333333333333,\n",
       "  'f1-score': 0.5641025641025641,\n",
       "  'support': 24.0},\n",
       " 'accuracy': 0.7166666666666667,\n",
       " 'macro avg': {'precision': 0.7222222222222222,\n",
       "  'recall': 0.673611111111111,\n",
       "  'f1-score': 0.6771130104463438,\n",
       "  'support': 60.0},\n",
       " 'weighted avg': {'precision': 0.7200000000000001,\n",
       "  'recall': 0.7166666666666667,\n",
       "  'f1-score': 0.6997150997150997,\n",
       "  'support': 60.0}}"
      ]
     },
     "metadata": {},
     "output_type": "display_data"
    },
    {
     "data": {
      "application/vnd.jupyter.widget-view+json": {
       "model_id": "51ad821cf591455d80bccb7a87e923c2",
       "version_major": 2,
       "version_minor": 0
      },
      "text/plain": [
       "Uploading artifacts:   0%|          | 0/11 [00:00<?, ?it/s]"
      ]
     },
     "metadata": {},
     "output_type": "display_data"
    }
   ],
   "source": [
    "%python\n",
    "import mlflow\n",
    "\n",
    "# collect a manageable slice for modeling (keep compute in check)\n",
    "pdf = df_join.select(\"label_anxiety\", \"text_clean\").limit(300).toPandas()\n",
    "\n",
    "# Check class distribution\n",
    "class_counts = pdf[\"label_anxiety\"].value_counts()\n",
    "display(class_counts)\n",
    "\n",
    "# Proceed only if at least two classes are present\n",
    "if len(class_counts) < 2:\n",
    "    raise ValueError(\"Not enough classes in the data for modeling. Please check your label distribution.\")\n",
    "\n",
    "y = pdf[\"label_anxiety\"].astype(int).values\n",
    "texts = pdf[\"text_clean\"].tolist()\n",
    "\n",
    "vec, X = tfidf_fit_transform(\n",
    "    texts,\n",
    "    max_features=300,\n",
    "    ngram_range=(1, 2),\n",
    "    min_df=3\n",
    ")\n",
    "clf, report = train_logreg_tfidf(\n",
    "    X,\n",
    "    y,\n",
    "    C=1.0,\n",
    "    max_iter=1000\n",
    ")\n",
    "display(report)\n",
    "with mlflow.start_run():\n",
    "    mlflow.sklearn.log_model(\n",
    "        clf,\n",
    "        \"model\",\n",
    "        input_example=X[0:1]\n",
    "    )"
   ]
  },
  {
   "cell_type": "code",
   "execution_count": 0,
   "metadata": {
    "application/vnd.databricks.v1+cell": {
     "cellMetadata": {
      "byteLimit": 2048000,
      "rowLimit": 10000
     },
     "inputWidgets": {},
     "nuid": "5af033ed-1853-4ea2-9951-ae683d1da811",
     "showTitle": false,
     "tableResultSettingsMap": {},
     "title": ""
    }
   },
   "outputs": [
    {
     "data": {
      "application/vnd.jupyter.widget-view+json": {
       "model_id": "bfa2b5b6673047b2a53cf9d9f0896668",
       "version_major": 2,
       "version_minor": 0
      },
      "text/plain": [
       "Uploading artifacts:   0%|          | 0/3 [00:00<?, ?it/s]"
      ]
     },
     "metadata": {},
     "output_type": "display_data"
    },
    {
     "data": {
      "application/vnd.jupyter.widget-view+json": {
       "model_id": "de063d937d47463298389617e294e425",
       "version_major": 2,
       "version_minor": 0
      },
      "text/plain": [
       "Uploading artifacts:   0%|          | 0/9 [00:00<?, ?it/s]"
      ]
     },
     "metadata": {},
     "output_type": "display_data"
    },
    {
     "data": {
      "application/vnd.jupyter.widget-view+json": {
       "model_id": "7bd6fcf65d1746a68d25870eaa678bca",
       "version_major": 2,
       "version_minor": 0
      },
      "text/plain": [
       "Uploading artifacts:   0%|          | 0/11 [00:00<?, ?it/s]"
      ]
     },
     "metadata": {},
     "output_type": "display_data"
    }
   ],
   "source": [
    "import pandas as pd\n",
    "from sklearn.pipeline import make_pipeline\n",
    "from mlflow.models.signature import infer_signature\n",
    "\n",
    "pipe = make_pipeline(\n",
    "    TfidfVectorizer(max_features=300, ngram_range=(1,2), min_df=3),\n",
    "    LogisticRegression(C=1.0, max_iter=1000, n_jobs=-1)\n",
    ")\n",
    "\n",
    "pipe.fit(texts, y)\n",
    "\n",
    "ex_df = pd.DataFrame({\"text\": [texts[0]]})\n",
    "sig = infer_signature(pd.DataFrame({\"text\": texts[:5]}), pipe.predict(texts[:5]))\n",
    "\n",
    "with mlflow.start_run():\n",
    "    mlflow.sklearn.log_model(\n",
    "        pipe,\n",
    "        \"model\",\n",
    "        input_example=ex_df,\n",
    "        signature=sig\n",
    "    )\n"
   ]
  },
  {
   "cell_type": "code",
   "execution_count": 0,
   "metadata": {
    "application/vnd.databricks.v1+cell": {
     "cellMetadata": {
      "byteLimit": 2048000,
      "rowLimit": 10000
     },
     "inputWidgets": {},
     "nuid": "4980fc97-afeb-43cf-a2bd-59b956f4c09c",
     "showTitle": false,
     "tableResultSettingsMap": {},
     "title": ""
    }
   },
   "outputs": [
    {
     "data": {
      "text/plain": [
       "'2.21.3'"
      ]
     },
     "execution_count": 15,
     "metadata": {},
     "output_type": "execute_result"
    }
   ],
   "source": [
    "spark.version\n",
    "import mlflow\n",
    "mlflow.__version__\n"
   ]
  }
 ],
 "metadata": {
  "application/vnd.databricks.v1+notebook": {
   "computePreferences": null,
   "dashboards": [],
   "environmentMetadata": {
    "base_environment": "",
    "environment_version": "4"
   },
   "inputWidgetPreferences": null,
   "language": "python",
   "notebookMetadata": {
    "pythonIndentUnit": 4
   },
   "notebookName": "main_pipeline_notes_anxiety",
   "widgets": {}
  },
  "language_info": {
   "name": "python"
  }
 },
 "nbformat": 4,
 "nbformat_minor": 0
}

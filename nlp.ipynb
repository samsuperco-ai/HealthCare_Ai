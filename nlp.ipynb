{
 "cells": [
  {
   "cell_type": "code",
   "execution_count": 0,
   "metadata": {
    "application/vnd.databricks.v1+cell": {
     "cellMetadata": {
      "byteLimit": 2048000,
      "rowLimit": 10000
     },
     "inputWidgets": {},
     "nuid": "fc620710-ce3d-4013-89e8-ffa553de731c",
     "showTitle": false,
     "tableResultSettingsMap": {},
     "title": ""
    }
   },
   "outputs": [],
   "source": [
    "# This for vectoriztion and embeddings\n",
    "# mimic_mod/nlp\n",
    "from sklearn.feature_extraction.text import TfidfVectorizer\n",
    "\n",
    "def tfidf_fit_transform(texts, max_features=30000, ngram_range=(1,2), min_df=3):\n",
    "    vec = TfidfVectorizer(max_features=max_features, ngram_range=ngram_range, min_df=min_df)\n",
    "    X = vec.fit_transform(texts)\n",
    "    return vec, X\n",
    "\n",
    "def tfidf_transform(vec, texts):\n",
    "    return vec.transform(texts)\n"
   ]
  }
 ],
 "metadata": {
  "application/vnd.databricks.v1+notebook": {
   "computePreferences": null,
   "dashboards": [],
   "environmentMetadata": {
    "base_environment": "",
    "environment_version": "4"
   },
   "inputWidgetPreferences": null,
   "language": "python",
   "notebookMetadata": {
    "pythonIndentUnit": 4
   },
   "notebookName": "nlp",
   "widgets": {}
  },
  "language_info": {
   "name": "python"
  }
 },
 "nbformat": 4,
 "nbformat_minor": 0
}
{
 "cells": [
  {
   "cell_type": "code",
   "execution_count": 0,
   "metadata": {
    "application/vnd.databricks.v1+cell": {
     "cellMetadata": {
      "byteLimit": 2048000,
      "rowLimit": 10000
     },
     "inputWidgets": {},
     "nuid": "d726ea39-9bd6-415d-8ee0-278ff3ec5538",
     "showTitle": false,
     "tableResultSettingsMap": {},
     "title": ""
    }
   },
   "outputs": [],
   "source": [
    "# train / test split, LogReg, MLflow logging\n",
    "# mimic_mod/train\n",
    "from sklearn.model_selection import train_test_split\n",
    "from sklearn.linear_model import LogisticRegression\n",
    "from sklearn.metrics import classification_report\n",
    "import mlflow\n",
    "import mlflow.sklearn\n",
    "\n",
    "def train_logreg_tfidf(X, y, test_size=0.2, random_state=42, C=1.0, max_iter=1000):\n",
    "    Xtr, Xte, ytr, yte = train_test_split(X, y, test_size=test_size, random_state=random_state, stratify=y)\n",
    "\n",
    "    with mlflow.start_run():\n",
    "        clf = LogisticRegression(C=C, max_iter=max_iter, n_jobs=-1)\n",
    "        clf.fit(Xtr, ytr)\n",
    "        yhat = clf.predict(Xte)\n",
    "        report = classification_report(yte, yhat, output_dict=True)\n",
    "\n",
    "        # log params/metrics\n",
    "        mlflow.log_param(\"C\", C)\n",
    "        mlflow.log_param(\"max_iter\", max_iter)\n",
    "        mlflow.log_metric(\"f1_anxiety\", report[\"1\"][\"f1-score\"])\n",
    "        mlflow.log_metric(\"f1_macro\", report[\"macro avg\"][\"f1-score\"])\n",
    "        mlflow.sklearn.log_model(clf, \"model\")\n",
    "\n",
    "    return clf, report\n"
   ]
  }
 ],
 "metadata": {
  "application/vnd.databricks.v1+notebook": {
   "computePreferences": null,
   "dashboards": [],
   "environmentMetadata": {
    "base_environment": "",
    "environment_version": "4"
   },
   "inputWidgetPreferences": null,
   "language": "python",
   "notebookMetadata": {
    "pythonIndentUnit": 4
   },
   "notebookName": "train",
   "widgets": {}
  },
  "language_info": {
   "name": "python"
  }
 },
 "nbformat": 4,
 "nbformat_minor": 0
}